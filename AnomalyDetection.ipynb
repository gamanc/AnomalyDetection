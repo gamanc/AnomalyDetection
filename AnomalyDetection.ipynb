{
 "cells": [
  {
   "cell_type": "markdown",
   "id": "2a5a858d",
   "metadata": {},
   "source": [
    "<h1 align='center'>Deteccion de anomalías en grandes volúmenes de datos</h1>\n"
   ]
  },
  {
   "cell_type": "markdown",
   "id": "50edfeaa",
   "metadata": {},
   "source": [
    "## Análisis del dataset"
   ]
  },
  {
   "cell_type": "code",
   "execution_count": 1,
   "id": "6168f9e2",
   "metadata": {},
   "outputs": [],
   "source": [
    "import pandas as pd\n",
    "import matplotlib.pyplot as plt\n",
    "import pylab\n",
    "import itertools\n",
    "import numpy as np\n",
    "from datetime import timedelta\n",
    "from sklearn.model_selection import train_test_split, cross_val_score\n",
    "from sklearn.preprocessing import RobustScaler\n",
    "from sklearn.utils import resample\n",
    "from sklearn.linear_model import LogisticRegression\n",
    "from sklearn.neighbors import KNeighborsClassifier\n",
    "from sklearn.tree import DecisionTreeClassifier\n",
    "from sklearn.svm import SVC\n",
    "from sklearn.metrics import confusion_matrix\n",
    "from timeit import default_timer as timer"
   ]
  },
  {
   "cell_type": "code",
   "execution_count": 2,
   "id": "b35898a1",
   "metadata": {},
   "outputs": [],
   "source": [
    "df = pd.read_csv('input/creditcard.csv')"
   ]
  },
  {
   "cell_type": "code",
   "execution_count": 3,
   "id": "fe09f559",
   "metadata": {},
   "outputs": [
    {
     "data": {
      "text/html": [
       "<div>\n",
       "<style scoped>\n",
       "    .dataframe tbody tr th:only-of-type {\n",
       "        vertical-align: middle;\n",
       "    }\n",
       "\n",
       "    .dataframe tbody tr th {\n",
       "        vertical-align: top;\n",
       "    }\n",
       "\n",
       "    .dataframe thead th {\n",
       "        text-align: right;\n",
       "    }\n",
       "</style>\n",
       "<table border=\"1\" class=\"dataframe\">\n",
       "  <thead>\n",
       "    <tr style=\"text-align: right;\">\n",
       "      <th></th>\n",
       "      <th>Time</th>\n",
       "      <th>V1</th>\n",
       "      <th>V2</th>\n",
       "      <th>V3</th>\n",
       "      <th>V4</th>\n",
       "      <th>V5</th>\n",
       "      <th>V6</th>\n",
       "      <th>V7</th>\n",
       "      <th>V8</th>\n",
       "      <th>V9</th>\n",
       "      <th>...</th>\n",
       "      <th>V21</th>\n",
       "      <th>V22</th>\n",
       "      <th>V23</th>\n",
       "      <th>V24</th>\n",
       "      <th>V25</th>\n",
       "      <th>V26</th>\n",
       "      <th>V27</th>\n",
       "      <th>V28</th>\n",
       "      <th>Amount</th>\n",
       "      <th>Class</th>\n",
       "    </tr>\n",
       "  </thead>\n",
       "  <tbody>\n",
       "    <tr>\n",
       "      <th>0</th>\n",
       "      <td>0.0</td>\n",
       "      <td>-1.359807</td>\n",
       "      <td>-0.072781</td>\n",
       "      <td>2.536347</td>\n",
       "      <td>1.378155</td>\n",
       "      <td>-0.338321</td>\n",
       "      <td>0.462388</td>\n",
       "      <td>0.239599</td>\n",
       "      <td>0.098698</td>\n",
       "      <td>0.363787</td>\n",
       "      <td>...</td>\n",
       "      <td>-0.018307</td>\n",
       "      <td>0.277838</td>\n",
       "      <td>-0.110474</td>\n",
       "      <td>0.066928</td>\n",
       "      <td>0.128539</td>\n",
       "      <td>-0.189115</td>\n",
       "      <td>0.133558</td>\n",
       "      <td>-0.021053</td>\n",
       "      <td>149.62</td>\n",
       "      <td>0</td>\n",
       "    </tr>\n",
       "    <tr>\n",
       "      <th>1</th>\n",
       "      <td>0.0</td>\n",
       "      <td>1.191857</td>\n",
       "      <td>0.266151</td>\n",
       "      <td>0.166480</td>\n",
       "      <td>0.448154</td>\n",
       "      <td>0.060018</td>\n",
       "      <td>-0.082361</td>\n",
       "      <td>-0.078803</td>\n",
       "      <td>0.085102</td>\n",
       "      <td>-0.255425</td>\n",
       "      <td>...</td>\n",
       "      <td>-0.225775</td>\n",
       "      <td>-0.638672</td>\n",
       "      <td>0.101288</td>\n",
       "      <td>-0.339846</td>\n",
       "      <td>0.167170</td>\n",
       "      <td>0.125895</td>\n",
       "      <td>-0.008983</td>\n",
       "      <td>0.014724</td>\n",
       "      <td>2.69</td>\n",
       "      <td>0</td>\n",
       "    </tr>\n",
       "    <tr>\n",
       "      <th>2</th>\n",
       "      <td>1.0</td>\n",
       "      <td>-1.358354</td>\n",
       "      <td>-1.340163</td>\n",
       "      <td>1.773209</td>\n",
       "      <td>0.379780</td>\n",
       "      <td>-0.503198</td>\n",
       "      <td>1.800499</td>\n",
       "      <td>0.791461</td>\n",
       "      <td>0.247676</td>\n",
       "      <td>-1.514654</td>\n",
       "      <td>...</td>\n",
       "      <td>0.247998</td>\n",
       "      <td>0.771679</td>\n",
       "      <td>0.909412</td>\n",
       "      <td>-0.689281</td>\n",
       "      <td>-0.327642</td>\n",
       "      <td>-0.139097</td>\n",
       "      <td>-0.055353</td>\n",
       "      <td>-0.059752</td>\n",
       "      <td>378.66</td>\n",
       "      <td>0</td>\n",
       "    </tr>\n",
       "    <tr>\n",
       "      <th>3</th>\n",
       "      <td>1.0</td>\n",
       "      <td>-0.966272</td>\n",
       "      <td>-0.185226</td>\n",
       "      <td>1.792993</td>\n",
       "      <td>-0.863291</td>\n",
       "      <td>-0.010309</td>\n",
       "      <td>1.247203</td>\n",
       "      <td>0.237609</td>\n",
       "      <td>0.377436</td>\n",
       "      <td>-1.387024</td>\n",
       "      <td>...</td>\n",
       "      <td>-0.108300</td>\n",
       "      <td>0.005274</td>\n",
       "      <td>-0.190321</td>\n",
       "      <td>-1.175575</td>\n",
       "      <td>0.647376</td>\n",
       "      <td>-0.221929</td>\n",
       "      <td>0.062723</td>\n",
       "      <td>0.061458</td>\n",
       "      <td>123.50</td>\n",
       "      <td>0</td>\n",
       "    </tr>\n",
       "    <tr>\n",
       "      <th>4</th>\n",
       "      <td>2.0</td>\n",
       "      <td>-1.158233</td>\n",
       "      <td>0.877737</td>\n",
       "      <td>1.548718</td>\n",
       "      <td>0.403034</td>\n",
       "      <td>-0.407193</td>\n",
       "      <td>0.095921</td>\n",
       "      <td>0.592941</td>\n",
       "      <td>-0.270533</td>\n",
       "      <td>0.817739</td>\n",
       "      <td>...</td>\n",
       "      <td>-0.009431</td>\n",
       "      <td>0.798278</td>\n",
       "      <td>-0.137458</td>\n",
       "      <td>0.141267</td>\n",
       "      <td>-0.206010</td>\n",
       "      <td>0.502292</td>\n",
       "      <td>0.219422</td>\n",
       "      <td>0.215153</td>\n",
       "      <td>69.99</td>\n",
       "      <td>0</td>\n",
       "    </tr>\n",
       "  </tbody>\n",
       "</table>\n",
       "<p>5 rows × 31 columns</p>\n",
       "</div>"
      ],
      "text/plain": [
       "   Time        V1        V2        V3        V4        V5        V6        V7  \\\n",
       "0   0.0 -1.359807 -0.072781  2.536347  1.378155 -0.338321  0.462388  0.239599   \n",
       "1   0.0  1.191857  0.266151  0.166480  0.448154  0.060018 -0.082361 -0.078803   \n",
       "2   1.0 -1.358354 -1.340163  1.773209  0.379780 -0.503198  1.800499  0.791461   \n",
       "3   1.0 -0.966272 -0.185226  1.792993 -0.863291 -0.010309  1.247203  0.237609   \n",
       "4   2.0 -1.158233  0.877737  1.548718  0.403034 -0.407193  0.095921  0.592941   \n",
       "\n",
       "         V8        V9  ...       V21       V22       V23       V24       V25  \\\n",
       "0  0.098698  0.363787  ... -0.018307  0.277838 -0.110474  0.066928  0.128539   \n",
       "1  0.085102 -0.255425  ... -0.225775 -0.638672  0.101288 -0.339846  0.167170   \n",
       "2  0.247676 -1.514654  ...  0.247998  0.771679  0.909412 -0.689281 -0.327642   \n",
       "3  0.377436 -1.387024  ... -0.108300  0.005274 -0.190321 -1.175575  0.647376   \n",
       "4 -0.270533  0.817739  ... -0.009431  0.798278 -0.137458  0.141267 -0.206010   \n",
       "\n",
       "        V26       V27       V28  Amount  Class  \n",
       "0 -0.189115  0.133558 -0.021053  149.62      0  \n",
       "1  0.125895 -0.008983  0.014724    2.69      0  \n",
       "2 -0.139097 -0.055353 -0.059752  378.66      0  \n",
       "3 -0.221929  0.062723  0.061458  123.50      0  \n",
       "4  0.502292  0.219422  0.215153   69.99      0  \n",
       "\n",
       "[5 rows x 31 columns]"
      ]
     },
     "execution_count": 3,
     "metadata": {},
     "output_type": "execute_result"
    }
   ],
   "source": [
    "df.head()"
   ]
  },
  {
   "cell_type": "markdown",
   "id": "a02d8795",
   "metadata": {},
   "source": [
    "Ahora determinamos la cantidad de transacciones fraudulentas en el dataset."
   ]
  },
  {
   "cell_type": "code",
   "execution_count": 4,
   "id": "157b3ffa",
   "metadata": {},
   "outputs": [],
   "source": [
    "frauds = (df['Class'] == 1)"
   ]
  },
  {
   "cell_type": "code",
   "execution_count": 5,
   "id": "9333446d",
   "metadata": {},
   "outputs": [
    {
     "data": {
      "text/plain": [
       "492"
      ]
     },
     "execution_count": 5,
     "metadata": {},
     "output_type": "execute_result"
    }
   ],
   "source": [
    "len(df[frauds])"
   ]
  },
  {
   "cell_type": "code",
   "execution_count": 6,
   "id": "46d6542d",
   "metadata": {},
   "outputs": [
    {
     "data": {
      "text/plain": [
       "284807"
      ]
     },
     "execution_count": 6,
     "metadata": {},
     "output_type": "execute_result"
    }
   ],
   "source": [
    "len(df)"
   ]
  },
  {
   "cell_type": "markdown",
   "id": "2b24de33",
   "metadata": {},
   "source": [
    "Lo anterior nos indica que de las $284,807$ transacciones en el dataset, $492$ corresponden a transacciones fraudulentas, de modo que el resto de transacciones, $284,315$, son transacciones normales. Podemos visualizar esto en un gráfico de pastel."
   ]
  },
  {
   "cell_type": "code",
   "execution_count": 7,
   "id": "a16d2988",
   "metadata": {},
   "outputs": [
    {
     "data": {
      "text/plain": [
       "<AxesSubplot:>"
      ]
     },
     "execution_count": 7,
     "metadata": {},
     "output_type": "execute_result"
    },
    {
     "data": {
      "image/png": "[encoded data removed]",
      "text/plain": [
       "<Figure size 1080x1080 with 1 Axes>"
      ]
     },
     "metadata": {},
     "output_type": "display_data"
    }
   ],
   "source": [
    "plot_data = pd.DataFrame({ 'Tipo de transacción': ['Transacciones fraudulentas \\n(492)', 'Transacciones normales \\n(284,315)'],\n",
    "                  'Cantidad': [492, 284315]})\n",
    "\n",
    "plot_data.set_index('Tipo de transacción', inplace=True)\n",
    "plot = plot_data.plot.pie(y='Cantidad', legend=False, \\\n",
    "                   autopct='%1.2f%%', explode=(0, 0.1), \\\n",
    "                   shadow=False, startangle=0, figsize=(15, 15), fontsize=25);\n",
    "pylab.ylabel('')\n",
    "plot"
   ]
  },
  {
   "cell_type": "markdown",
   "id": "ca3bae0e",
   "metadata": {},
   "source": [
    "Podemos verificar que en este dataset no hay datos nulos:"
   ]
  },
  {
   "cell_type": "code",
   "execution_count": 8,
   "id": "eabadf46",
   "metadata": {},
   "outputs": [
    {
     "data": {
      "text/plain": [
       "False"
      ]
     },
     "execution_count": 8,
     "metadata": {},
     "output_type": "execute_result"
    }
   ],
   "source": [
    "df.isnull().values.any()"
   ]
  },
  {
   "cell_type": "code",
   "execution_count": 9,
   "id": "3945233a",
   "metadata": {},
   "outputs": [
    {
     "data": {
      "text/plain": [
       "0"
      ]
     },
     "execution_count": 9,
     "metadata": {},
     "output_type": "execute_result"
    }
   ],
   "source": [
    "df.isnull().sum().sum()"
   ]
  },
  {
   "cell_type": "markdown",
   "id": "8c373e92",
   "metadata": {},
   "source": [
    "## Matriz de correlación"
   ]
  },
  {
   "cell_type": "code",
   "execution_count": 10,
   "id": "8b92d9c8",
   "metadata": {
    "scrolled": false
   },
   "outputs": [
    {
     "data": {
      "image/png": "[encoded data removed]",
      "text/plain": [
       "<Figure size 1368x1080 with 2 Axes>"
      ]
     },
     "metadata": {
      "needs_background": "light"
     },
     "output_type": "display_data"
    }
   ],
   "source": [
    "f = plt.figure(figsize=(19, 15))\n",
    "corrMatrix = df.corr()\n",
    "plt.matshow(corrMatrix, fignum=f.number)\n",
    "plt.xticks(range(df.select_dtypes(['number']).shape[1]), df.select_dtypes(['number']).columns, fontsize=14, rotation=45)\n",
    "plt.yticks(range(df.select_dtypes(['number']).shape[1]), df.select_dtypes(['number']).columns, fontsize=14)\n",
    "cb = plt.colorbar()\n",
    "cb.ax.tick_params(labelsize=14)"
   ]
  },
  {
   "cell_type": "markdown",
   "id": "b6b5ceae",
   "metadata": {},
   "source": [
    "## Preprocesamiento"
   ]
  },
  {
   "cell_type": "markdown",
   "id": "27ad8f1c",
   "metadata": {},
   "source": [
    "### Separando en conjuntos de entrenamiento y de prueba"
   ]
  },
  {
   "cell_type": "code",
   "execution_count": 11,
   "id": "5c58a25d",
   "metadata": {},
   "outputs": [],
   "source": [
    "X = df.drop('Class', axis=1)\n",
    "y = df['Class']\n",
    "\n",
    "# Generando conjuntos\n",
    "X_train, X_test, y_train, y_test = train_test_split(X, y, test_size=1/3, random_state=42)\n",
    "\n",
    "train_data = pd.concat([X_train, y_train], axis=1)\n",
    "test_data = pd.concat([X_test, y_test], axis=1)"
   ]
  },
  {
   "cell_type": "markdown",
   "id": "24fbc9fc",
   "metadata": {},
   "source": [
    "### Escalando columnas"
   ]
  },
  {
   "cell_type": "code",
   "execution_count": 12,
   "id": "e139455e",
   "metadata": {},
   "outputs": [
    {
     "data": {
      "text/html": [
       "<div>\n",
       "<style scoped>\n",
       "    .dataframe tbody tr th:only-of-type {\n",
       "        vertical-align: middle;\n",
       "    }\n",
       "\n",
       "    .dataframe tbody tr th {\n",
       "        vertical-align: top;\n",
       "    }\n",
       "\n",
       "    .dataframe thead th {\n",
       "        text-align: right;\n",
       "    }\n",
       "</style>\n",
       "<table border=\"1\" class=\"dataframe\">\n",
       "  <thead>\n",
       "    <tr style=\"text-align: right;\">\n",
       "      <th></th>\n",
       "      <th>scaled_amount</th>\n",
       "      <th>scaled_time</th>\n",
       "      <th>V1</th>\n",
       "      <th>V2</th>\n",
       "      <th>V3</th>\n",
       "      <th>V4</th>\n",
       "      <th>V5</th>\n",
       "      <th>V6</th>\n",
       "      <th>V7</th>\n",
       "      <th>V8</th>\n",
       "      <th>...</th>\n",
       "      <th>V20</th>\n",
       "      <th>V21</th>\n",
       "      <th>V22</th>\n",
       "      <th>V23</th>\n",
       "      <th>V24</th>\n",
       "      <th>V25</th>\n",
       "      <th>V26</th>\n",
       "      <th>V27</th>\n",
       "      <th>V28</th>\n",
       "      <th>Class</th>\n",
       "    </tr>\n",
       "  </thead>\n",
       "  <tbody>\n",
       "    <tr>\n",
       "      <th>43428</th>\n",
       "      <td>4.789223</td>\n",
       "      <td>-0.510245</td>\n",
       "      <td>-16.526507</td>\n",
       "      <td>8.584972</td>\n",
       "      <td>-18.649853</td>\n",
       "      <td>9.505594</td>\n",
       "      <td>-13.793819</td>\n",
       "      <td>-2.832404</td>\n",
       "      <td>-16.701694</td>\n",
       "      <td>7.517344</td>\n",
       "      <td>...</td>\n",
       "      <td>-1.514923</td>\n",
       "      <td>1.190739</td>\n",
       "      <td>-1.127670</td>\n",
       "      <td>-2.358579</td>\n",
       "      <td>0.673461</td>\n",
       "      <td>-1.413700</td>\n",
       "      <td>-0.462762</td>\n",
       "      <td>-2.018575</td>\n",
       "      <td>-1.042804</td>\n",
       "      <td>1</td>\n",
       "    </tr>\n",
       "    <tr>\n",
       "      <th>49906</th>\n",
       "      <td>6.971589</td>\n",
       "      <td>-0.477893</td>\n",
       "      <td>0.339812</td>\n",
       "      <td>-2.743745</td>\n",
       "      <td>-0.134070</td>\n",
       "      <td>-1.385729</td>\n",
       "      <td>-1.451413</td>\n",
       "      <td>1.015887</td>\n",
       "      <td>-0.524379</td>\n",
       "      <td>0.224060</td>\n",
       "      <td>...</td>\n",
       "      <td>0.506044</td>\n",
       "      <td>-0.213436</td>\n",
       "      <td>-0.942525</td>\n",
       "      <td>-0.526819</td>\n",
       "      <td>-1.156992</td>\n",
       "      <td>0.311211</td>\n",
       "      <td>-0.746647</td>\n",
       "      <td>0.040996</td>\n",
       "      <td>0.102038</td>\n",
       "      <td>0</td>\n",
       "    </tr>\n",
       "    <tr>\n",
       "      <th>29474</th>\n",
       "      <td>0.125962</td>\n",
       "      <td>-0.580925</td>\n",
       "      <td>1.399590</td>\n",
       "      <td>-0.590701</td>\n",
       "      <td>0.168619</td>\n",
       "      <td>-1.029950</td>\n",
       "      <td>-0.539806</td>\n",
       "      <td>0.040444</td>\n",
       "      <td>-0.712567</td>\n",
       "      <td>0.002299</td>\n",
       "      <td>...</td>\n",
       "      <td>0.212877</td>\n",
       "      <td>0.102398</td>\n",
       "      <td>0.168269</td>\n",
       "      <td>-0.166639</td>\n",
       "      <td>-0.810250</td>\n",
       "      <td>0.505083</td>\n",
       "      <td>-0.232340</td>\n",
       "      <td>0.011409</td>\n",
       "      <td>0.004634</td>\n",
       "      <td>0</td>\n",
       "    </tr>\n",
       "    <tr>\n",
       "      <th>276481</th>\n",
       "      <td>-0.286914</td>\n",
       "      <td>0.964378</td>\n",
       "      <td>-0.432071</td>\n",
       "      <td>1.647895</td>\n",
       "      <td>-1.669361</td>\n",
       "      <td>-0.349504</td>\n",
       "      <td>0.785785</td>\n",
       "      <td>-0.630647</td>\n",
       "      <td>0.276990</td>\n",
       "      <td>0.586025</td>\n",
       "      <td>...</td>\n",
       "      <td>-0.244633</td>\n",
       "      <td>0.358932</td>\n",
       "      <td>0.873663</td>\n",
       "      <td>-0.178642</td>\n",
       "      <td>-0.017171</td>\n",
       "      <td>-0.207392</td>\n",
       "      <td>-0.157756</td>\n",
       "      <td>-0.237386</td>\n",
       "      <td>0.001934</td>\n",
       "      <td>0</td>\n",
       "    </tr>\n",
       "    <tr>\n",
       "      <th>278846</th>\n",
       "      <td>-0.295451</td>\n",
       "      <td>0.980226</td>\n",
       "      <td>2.014160</td>\n",
       "      <td>-0.137394</td>\n",
       "      <td>-1.015839</td>\n",
       "      <td>0.327269</td>\n",
       "      <td>-0.182179</td>\n",
       "      <td>-0.956571</td>\n",
       "      <td>0.043241</td>\n",
       "      <td>-0.160746</td>\n",
       "      <td>...</td>\n",
       "      <td>-0.255293</td>\n",
       "      <td>-0.238644</td>\n",
       "      <td>-0.616400</td>\n",
       "      <td>0.347045</td>\n",
       "      <td>0.061561</td>\n",
       "      <td>-0.360196</td>\n",
       "      <td>0.174730</td>\n",
       "      <td>-0.078043</td>\n",
       "      <td>-0.070571</td>\n",
       "      <td>0</td>\n",
       "    </tr>\n",
       "  </tbody>\n",
       "</table>\n",
       "<p>5 rows × 31 columns</p>\n",
       "</div>"
      ],
      "text/plain": [
       "        scaled_amount  scaled_time         V1        V2         V3        V4  \\\n",
       "43428        4.789223    -0.510245 -16.526507  8.584972 -18.649853  9.505594   \n",
       "49906        6.971589    -0.477893   0.339812 -2.743745  -0.134070 -1.385729   \n",
       "29474        0.125962    -0.580925   1.399590 -0.590701   0.168619 -1.029950   \n",
       "276481      -0.286914     0.964378  -0.432071  1.647895  -1.669361 -0.349504   \n",
       "278846      -0.295451     0.980226   2.014160 -0.137394  -1.015839  0.327269   \n",
       "\n",
       "               V5        V6         V7        V8  ...       V20       V21  \\\n",
       "43428  -13.793819 -2.832404 -16.701694  7.517344  ... -1.514923  1.190739   \n",
       "49906   -1.451413  1.015887  -0.524379  0.224060  ...  0.506044 -0.213436   \n",
       "29474   -0.539806  0.040444  -0.712567  0.002299  ...  0.212877  0.102398   \n",
       "276481   0.785785 -0.630647   0.276990  0.586025  ... -0.244633  0.358932   \n",
       "278846  -0.182179 -0.956571   0.043241 -0.160746  ... -0.255293 -0.238644   \n",
       "\n",
       "             V22       V23       V24       V25       V26       V27       V28  \\\n",
       "43428  -1.127670 -2.358579  0.673461 -1.413700 -0.462762 -2.018575 -1.042804   \n",
       "49906  -0.942525 -0.526819 -1.156992  0.311211 -0.746647  0.040996  0.102038   \n",
       "29474   0.168269 -0.166639 -0.810250  0.505083 -0.232340  0.011409  0.004634   \n",
       "276481  0.873663 -0.178642 -0.017171 -0.207392 -0.157756 -0.237386  0.001934   \n",
       "278846 -0.616400  0.347045  0.061561 -0.360196  0.174730 -0.078043 -0.070571   \n",
       "\n",
       "        Class  \n",
       "43428       1  \n",
       "49906       0  \n",
       "29474       0  \n",
       "276481      0  \n",
       "278846      0  \n",
       "\n",
       "[5 rows x 31 columns]"
      ]
     },
     "execution_count": 12,
     "metadata": {},
     "output_type": "execute_result"
    }
   ],
   "source": [
    "robust_scaler = RobustScaler()\n",
    "\n",
    "## training set\n",
    "\n",
    "scaled_train_amount = robust_scaler.fit_transform(train_data['Amount'].values.reshape(-1,1))\n",
    "scaled_train_time = robust_scaler.fit_transform(train_data['Time'].values.reshape(-1,1))\n",
    "\n",
    "train_data.drop(['Amount', 'Time'], axis=1, inplace=True)\n",
    "train_data.insert(0, 'scaled_amount', scaled_train_amount)\n",
    "train_data.insert(1, 'scaled_time', scaled_train_time)\n",
    "\n",
    "train_data.head()\n",
    "\n",
    "#test set\n",
    "\n",
    "scaled_test_amount = robust_scaler.fit_transform(test_data['Amount'].values.reshape(-1,1))\n",
    "scaled_test_time = robust_scaler.fit_transform(test_data['Time'].values.reshape(-1,1))\n",
    "\n",
    "test_data.drop(['Amount', 'Time'], axis=1, inplace=True)\n",
    "test_data.insert(0, 'scaled_amount', scaled_test_amount)\n",
    "test_data.insert(1, 'scaled_time', scaled_test_time)\n",
    "\n",
    "test_data.head()"
   ]
  },
  {
   "cell_type": "markdown",
   "id": "40e4d897",
   "metadata": {},
   "source": [
    "### Implementando random undersampling"
   ]
  },
  {
   "cell_type": "code",
   "execution_count": 13,
   "id": "2a7e83e4",
   "metadata": {},
   "outputs": [
    {
     "name": "stdout",
     "output_type": "stream",
     "text": [
      "Undersample non frauds count: 343\n",
      "Undersample frauds count: 343\n"
     ]
    }
   ],
   "source": [
    "train_frauds = train_data[train_data.Class == 1]\n",
    "train_non_frauds = train_data[train_data.Class == 0]\n",
    "\n",
    "# Extracting the same amount of non frauds as frauds from training set \n",
    "downsampled = resample(train_non_frauds, replace=True, n_samples=len(train_frauds), random_state=27)\n",
    "\n",
    "train_undersampled = pd.concat([train_frauds, downsampled])\n",
    "\n",
    "# Print  \n",
    "[undersampled_non_frauds, undersampled_frauds] = train_undersampled.Class.value_counts()\n",
    "print(\"Undersample non frauds count:\", undersampled_non_frauds)\n",
    "print(\"Undersample frauds count:\", undersampled_frauds)"
   ]
  },
  {
   "cell_type": "code",
   "execution_count": 14,
   "id": "2874f0d7",
   "metadata": {},
   "outputs": [
    {
     "data": {
      "text/html": [
       "<div>\n",
       "<style scoped>\n",
       "    .dataframe tbody tr th:only-of-type {\n",
       "        vertical-align: middle;\n",
       "    }\n",
       "\n",
       "    .dataframe tbody tr th {\n",
       "        vertical-align: top;\n",
       "    }\n",
       "\n",
       "    .dataframe thead th {\n",
       "        text-align: right;\n",
       "    }\n",
       "</style>\n",
       "<table border=\"1\" class=\"dataframe\">\n",
       "  <thead>\n",
       "    <tr style=\"text-align: right;\">\n",
       "      <th></th>\n",
       "      <th>scaled_amount</th>\n",
       "      <th>scaled_time</th>\n",
       "      <th>V1</th>\n",
       "      <th>V2</th>\n",
       "      <th>V3</th>\n",
       "      <th>V4</th>\n",
       "      <th>V5</th>\n",
       "      <th>V6</th>\n",
       "      <th>V7</th>\n",
       "      <th>V8</th>\n",
       "      <th>...</th>\n",
       "      <th>V20</th>\n",
       "      <th>V21</th>\n",
       "      <th>V22</th>\n",
       "      <th>V23</th>\n",
       "      <th>V24</th>\n",
       "      <th>V25</th>\n",
       "      <th>V26</th>\n",
       "      <th>V27</th>\n",
       "      <th>V28</th>\n",
       "      <th>Class</th>\n",
       "    </tr>\n",
       "  </thead>\n",
       "  <tbody>\n",
       "    <tr>\n",
       "      <th>42958</th>\n",
       "      <td>-0.167410</td>\n",
       "      <td>-0.508543</td>\n",
       "      <td>-13.897206</td>\n",
       "      <td>6.344280</td>\n",
       "      <td>-14.281666</td>\n",
       "      <td>5.581009</td>\n",
       "      <td>-12.887133</td>\n",
       "      <td>-3.146176</td>\n",
       "      <td>-15.450467</td>\n",
       "      <td>9.060281</td>\n",
       "      <td>...</td>\n",
       "      <td>-1.025228</td>\n",
       "      <td>3.058082</td>\n",
       "      <td>0.941180</td>\n",
       "      <td>-0.232710</td>\n",
       "      <td>0.763508</td>\n",
       "      <td>0.075456</td>\n",
       "      <td>-0.453840</td>\n",
       "      <td>-1.508968</td>\n",
       "      <td>-0.686836</td>\n",
       "      <td>1</td>\n",
       "    </tr>\n",
       "    <tr>\n",
       "      <th>10484</th>\n",
       "      <td>-0.253833</td>\n",
       "      <td>-0.792038</td>\n",
       "      <td>1.088375</td>\n",
       "      <td>0.898474</td>\n",
       "      <td>0.394684</td>\n",
       "      <td>3.170258</td>\n",
       "      <td>0.175739</td>\n",
       "      <td>-0.221981</td>\n",
       "      <td>-0.022989</td>\n",
       "      <td>-0.010874</td>\n",
       "      <td>...</td>\n",
       "      <td>-0.217358</td>\n",
       "      <td>-0.423554</td>\n",
       "      <td>-0.800852</td>\n",
       "      <td>0.077614</td>\n",
       "      <td>0.167608</td>\n",
       "      <td>0.350182</td>\n",
       "      <td>-0.118941</td>\n",
       "      <td>0.012948</td>\n",
       "      <td>0.054254</td>\n",
       "      <td>1</td>\n",
       "    </tr>\n",
       "    <tr>\n",
       "      <th>69980</th>\n",
       "      <td>-0.306663</td>\n",
       "      <td>-0.363481</td>\n",
       "      <td>-1.739341</td>\n",
       "      <td>1.344521</td>\n",
       "      <td>-0.534379</td>\n",
       "      <td>3.195291</td>\n",
       "      <td>-0.416196</td>\n",
       "      <td>-1.261961</td>\n",
       "      <td>-2.340991</td>\n",
       "      <td>0.713004</td>\n",
       "      <td>...</td>\n",
       "      <td>0.002749</td>\n",
       "      <td>0.383180</td>\n",
       "      <td>-0.213952</td>\n",
       "      <td>-0.336640</td>\n",
       "      <td>0.237076</td>\n",
       "      <td>0.246003</td>\n",
       "      <td>-0.044228</td>\n",
       "      <td>0.510729</td>\n",
       "      <td>0.220952</td>\n",
       "      <td>1</td>\n",
       "    </tr>\n",
       "    <tr>\n",
       "      <th>10801</th>\n",
       "      <td>-0.292724</td>\n",
       "      <td>-0.777796</td>\n",
       "      <td>-14.474437</td>\n",
       "      <td>6.503185</td>\n",
       "      <td>-17.712632</td>\n",
       "      <td>11.270352</td>\n",
       "      <td>-4.150142</td>\n",
       "      <td>-3.372098</td>\n",
       "      <td>-16.535807</td>\n",
       "      <td>-1.443947</td>\n",
       "      <td>...</td>\n",
       "      <td>1.101250</td>\n",
       "      <td>-2.475962</td>\n",
       "      <td>0.342391</td>\n",
       "      <td>-3.564508</td>\n",
       "      <td>-0.818140</td>\n",
       "      <td>0.153408</td>\n",
       "      <td>0.755079</td>\n",
       "      <td>2.706566</td>\n",
       "      <td>-0.992916</td>\n",
       "      <td>1</td>\n",
       "    </tr>\n",
       "    <tr>\n",
       "      <th>107637</th>\n",
       "      <td>11.190828</td>\n",
       "      <td>-0.165155</td>\n",
       "      <td>-2.271755</td>\n",
       "      <td>-0.457655</td>\n",
       "      <td>-2.589055</td>\n",
       "      <td>2.230778</td>\n",
       "      <td>-4.278983</td>\n",
       "      <td>0.388610</td>\n",
       "      <td>0.102485</td>\n",
       "      <td>0.813128</td>\n",
       "      <td>...</td>\n",
       "      <td>2.285758</td>\n",
       "      <td>1.096342</td>\n",
       "      <td>0.658399</td>\n",
       "      <td>1.711676</td>\n",
       "      <td>0.333540</td>\n",
       "      <td>0.538591</td>\n",
       "      <td>-0.193529</td>\n",
       "      <td>0.258194</td>\n",
       "      <td>0.247269</td>\n",
       "      <td>1</td>\n",
       "    </tr>\n",
       "  </tbody>\n",
       "</table>\n",
       "<p>5 rows × 31 columns</p>\n",
       "</div>"
      ],
      "text/plain": [
       "        scaled_amount  scaled_time         V1        V2         V3         V4  \\\n",
       "42958       -0.167410    -0.508543 -13.897206  6.344280 -14.281666   5.581009   \n",
       "10484       -0.253833    -0.792038   1.088375  0.898474   0.394684   3.170258   \n",
       "69980       -0.306663    -0.363481  -1.739341  1.344521  -0.534379   3.195291   \n",
       "10801       -0.292724    -0.777796 -14.474437  6.503185 -17.712632  11.270352   \n",
       "107637      11.190828    -0.165155  -2.271755 -0.457655  -2.589055   2.230778   \n",
       "\n",
       "               V5        V6         V7        V8  ...       V20       V21  \\\n",
       "42958  -12.887133 -3.146176 -15.450467  9.060281  ... -1.025228  3.058082   \n",
       "10484    0.175739 -0.221981  -0.022989 -0.010874  ... -0.217358 -0.423554   \n",
       "69980   -0.416196 -1.261961  -2.340991  0.713004  ...  0.002749  0.383180   \n",
       "10801   -4.150142 -3.372098 -16.535807 -1.443947  ...  1.101250 -2.475962   \n",
       "107637  -4.278983  0.388610   0.102485  0.813128  ...  2.285758  1.096342   \n",
       "\n",
       "             V22       V23       V24       V25       V26       V27       V28  \\\n",
       "42958   0.941180 -0.232710  0.763508  0.075456 -0.453840 -1.508968 -0.686836   \n",
       "10484  -0.800852  0.077614  0.167608  0.350182 -0.118941  0.012948  0.054254   \n",
       "69980  -0.213952 -0.336640  0.237076  0.246003 -0.044228  0.510729  0.220952   \n",
       "10801   0.342391 -3.564508 -0.818140  0.153408  0.755079  2.706566 -0.992916   \n",
       "107637  0.658399  1.711676  0.333540  0.538591 -0.193529  0.258194  0.247269   \n",
       "\n",
       "        Class  \n",
       "42958       1  \n",
       "10484       1  \n",
       "69980       1  \n",
       "10801       1  \n",
       "107637      1  \n",
       "\n",
       "[5 rows x 31 columns]"
      ]
     },
     "execution_count": 14,
     "metadata": {},
     "output_type": "execute_result"
    }
   ],
   "source": [
    "train_undersampled.head()"
   ]
  },
  {
   "cell_type": "code",
   "execution_count": 15,
   "id": "aaf0bcfc",
   "metadata": {},
   "outputs": [
    {
     "data": {
      "text/plain": [
       "<AxesSubplot:>"
      ]
     },
     "execution_count": 15,
     "metadata": {},
     "output_type": "execute_result"
    },
    {
     "data": {
      "image/png": "[encoded data removed]",
      "text/plain": [
       "<Figure size 1080x1080 with 1 Axes>"
      ]
     },
     "metadata": {},
     "output_type": "display_data"
    }
   ],
   "source": [
    "plot_data = pd.DataFrame({ 'Tipo de transacción': [\n",
    "    'Transacciones fraudulentas \\n({})'.format(undersampled_frauds),\n",
    "    'Transacciones normales \\n({})'.format(undersampled_non_frauds)\n",
    "],\n",
    "                          'Cantidad': [undersampled_frauds, undersampled_non_frauds]})\n",
    "\n",
    "plot_data.set_index('Tipo de transacción', inplace=True)\n",
    "plot = plot_data.plot.pie(y='Cantidad', legend=False, \\\n",
    "                   autopct='%1.1f%%', \\\n",
    "                   shadow=False, startangle=0, figsize=(15, 15), fontsize=25);\n",
    "pylab.ylabel('')\n",
    "plot"
   ]
  },
  {
   "cell_type": "code",
   "execution_count": 17,
   "id": "4395f613",
   "metadata": {},
   "outputs": [
    {
     "data": {
      "image/png": "[encoded data removed]",
      "text/plain": [
       "<Figure size 1368x1080 with 2 Axes>"
      ]
     },
     "metadata": {
      "needs_background": "light"
     },
     "output_type": "display_data"
    }
   ],
   "source": [
    "f = plt.figure(figsize=(19, 15))\n",
    "corrMatrix = train_undersampled.corr()\n",
    "plt.matshow(corrMatrix, fignum=f.number)\n",
    "plt.xticks(range(train_undersampled.select_dtypes(['number']).shape[1]), train_undersampled.select_dtypes(['number']).columns, fontsize=14, rotation=45)\n",
    "plt.yticks(range(train_undersampled.select_dtypes(['number']).shape[1]), train_undersampled.select_dtypes(['number']).columns, fontsize=14)\n",
    "cb = plt.colorbar()\n",
    "cb.ax.tick_params(labelsize=14)"
   ]
  },
  {
   "cell_type": "markdown",
   "id": "834530e1",
   "metadata": {},
   "source": [
    "## Implementación de clasificadores"
   ]
  },
  {
   "cell_type": "markdown",
   "id": "63cb0901",
   "metadata": {},
   "source": [
    "### Función para imprimir matriz de confusión"
   ]
  },
  {
   "cell_type": "code",
   "execution_count": 18,
   "id": "3ca589a5",
   "metadata": {},
   "outputs": [],
   "source": [
    "def plot_confusion_matrix(cm, classes,\n",
    "                          normalize=False,\n",
    "                          title='Matriz de confusión',\n",
    "                          cmap=plt.cm.Reds):\n",
    "\n",
    "    plt.imshow(cm, interpolation='nearest', cmap=cmap)\n",
    "    plt.title(title)\n",
    "    plt.colorbar()\n",
    "    tick_marks = np.arange(len(classes))\n",
    "    plt.xticks(tick_marks, classes, rotation=0)\n",
    "    plt.yticks(tick_marks, classes)\n",
    "\n",
    "    if normalize:\n",
    "        cm = cm.astype('float') / cm.sum(axis=1)[:, np.newaxis]\n",
    "\n",
    "    thresh = cm.max() / 2.\n",
    "    for i, j in itertools.product(range(cm.shape[0]), range(cm.shape[1])):\n",
    "        plt.text(j, i, cm[i, j],\n",
    "                 horizontalalignment=\"center\",\n",
    "                 color=\"white\" if cm[i, j] > thresh else \"black\")\n",
    "\n",
    "    plt.tight_layout()\n",
    "    plt.ylabel('Real')\n",
    "    plt.xlabel('Predicción')"
   ]
  },
  {
   "cell_type": "markdown",
   "id": "de3b9bdf",
   "metadata": {},
   "source": [
    "## Logistic regression"
   ]
  },
  {
   "cell_type": "code",
   "execution_count": 19,
   "id": "b02f7719",
   "metadata": {},
   "outputs": [],
   "source": [
    "X_train_undersampled = train_undersampled.drop('Class', axis=1)\n",
    "y_train_undersampled = train_undersampled['Class']\n",
    "\n",
    "\n",
    "X_test = test_data.drop('Class', axis=1)\n",
    "y_test = test_data['Class']"
   ]
  },
  {
   "cell_type": "code",
   "execution_count": 20,
   "id": "677fcfe7",
   "metadata": {},
   "outputs": [
    {
     "name": "stdout",
     "output_type": "stream",
     "text": [
      "Elapsed time: 0:00:00.060588\n",
      "LogisticRegression has a training score of 94.0 % accuracy score\n",
      "Recall:  0.9261744966442953\n"
     ]
    },
    {
     "data": {
      "image/png": "[encoded data removed]",
      "text/plain": [
       "<Figure size 432x288 with 2 Axes>"
      ]
     },
     "metadata": {
      "needs_background": "light"
     },
     "output_type": "display_data"
    }
   ],
   "source": [
    "classifier = LogisticRegression()\n",
    "\n",
    "\n",
    "start_time = timer()\n",
    "classifier.fit(X_train_undersampled, y_train_undersampled)\n",
    "y_pred_undersample = classifier.predict(X_test)\n",
    "elapsed_time = timer() - start_time\n",
    "print(\"Elapsed time:\", timedelta(seconds=elapsed_time))\n",
    "\n",
    "training_score = cross_val_score(classifier,X_train_undersampled, y_train_undersampled, cv=5)\n",
    "\n",
    "print(classifier.__class__.__name__,\"has a training score of\", round(training_score.mean(), 2) * 100, \"% accuracy score\")\n",
    "\n",
    "conf_matrix = confusion_matrix(y_test,y_pred_undersample)\n",
    "np.set_printoptions(precision=2)\n",
    "\n",
    "print(\"Recall: \", conf_matrix[1,1]/(conf_matrix[1,0]+conf_matrix[1,1]))\n",
    "\n",
    "# Plot confusion matrix\n",
    "class_names = [0,1]\n",
    "plt.figure()\n",
    "plot_confusion_matrix(conf_matrix\n",
    "                      , classes=class_names\n",
    "                      , title='Confusion matrix')\n",
    "plt.show()\n",
    "\n"
   ]
  },
  {
   "cell_type": "markdown",
   "id": "21a2a1ec",
   "metadata": {},
   "source": [
    "## SVM"
   ]
  },
  {
   "cell_type": "code",
   "execution_count": 21,
   "id": "a9f1073e",
   "metadata": {},
   "outputs": [
    {
     "name": "stdout",
     "output_type": "stream",
     "text": [
      "Elapsed time: 0:00:00.763356\n",
      "SVC has a training score of 93.0 % accuracy score\n",
      "Recall metric in the testing dataset:  0.9060402684563759\n"
     ]
    },
    {
     "data": {
      "image/png": "[encoded data removed]",
      "text/plain": [
       "<Figure size 432x288 with 2 Axes>"
      ]
     },
     "metadata": {
      "needs_background": "light"
     },
     "output_type": "display_data"
    }
   ],
   "source": [
    "classifier = SVC()\n",
    "\n",
    "\n",
    "start_time = timer()\n",
    "classifier.fit(X_train_undersampled, y_train_undersampled)\n",
    "y_pred_undersample = classifier.predict(X_test)\n",
    "elapsed_time = timer() - start_time\n",
    "print(\"Elapsed time:\", timedelta(seconds=elapsed_time))\n",
    "\n",
    "training_score = cross_val_score(classifier,X_train_undersampled, y_train_undersampled, cv=5)\n",
    "\n",
    "print(classifier.__class__.__name__,\"has a training score of\", round(training_score.mean(), 2) * 100, \"% accuracy score\")\n",
    "\n",
    "conf_matrix = confusion_matrix(y_test,y_pred_undersample)\n",
    "np.set_printoptions(precision=2)\n",
    "\n",
    "print(\"Recall metric in the testing dataset: \", conf_matrix[1,1]/(conf_matrix[1,0]+conf_matrix[1,1]))\n",
    "\n",
    "# Plot confusion matrix\n",
    "class_names = [0,1]\n",
    "plt.figure()\n",
    "plot_confusion_matrix(conf_matrix\n",
    "                      , classes=class_names\n",
    "                      , title='Confusion matrix')\n",
    "plt.show()"
   ]
  },
  {
   "cell_type": "markdown",
   "id": "2ede1f41",
   "metadata": {},
   "source": [
    "## K Neighbors"
   ]
  },
  {
   "cell_type": "code",
   "execution_count": 22,
   "id": "583d20b7",
   "metadata": {},
   "outputs": [
    {
     "name": "stdout",
     "output_type": "stream",
     "text": [
      "Elapsed time: 0:00:02.750173\n",
      "KNeighborsClassifier has a training score of 94.0 % accuracy score\n",
      "Recall metric in the testing dataset:  0.912751677852349\n"
     ]
    },
    {
     "data": {
      "image/png": "[encoded data removed]",
      "text/plain": [
       "<Figure size 432x288 with 2 Axes>"
      ]
     },
     "metadata": {
      "needs_background": "light"
     },
     "output_type": "display_data"
    }
   ],
   "source": [
    "classifier = KNeighborsClassifier()\n",
    "\n",
    "\n",
    "start_time = timer()\n",
    "classifier.fit(X_train_undersampled, y_train_undersampled)\n",
    "y_pred_undersample = classifier.predict(X_test)\n",
    "elapsed_time = timer() - start_time\n",
    "print(\"Elapsed time:\", timedelta(seconds=elapsed_time))\n",
    "\n",
    "training_score = cross_val_score(classifier,X_train_undersampled, y_train_undersampled, cv=5)\n",
    "\n",
    "print(classifier.__class__.__name__,\"has a training score of\", round(training_score.mean(), 2) * 100, \"% accuracy score\")\n",
    "\n",
    "conf_matrix = confusion_matrix(y_test,y_pred_undersample)\n",
    "np.set_printoptions(precision=2)\n",
    "\n",
    "print(\"Recall metric in the testing dataset: \", conf_matrix[1,1]/(conf_matrix[1,0]+conf_matrix[1,1]))\n",
    "\n",
    "# Plot confusion matrix\n",
    "class_names = [0,1]\n",
    "plt.figure()\n",
    "plot_confusion_matrix(conf_matrix\n",
    "                      , classes=class_names\n",
    "                      , title='Confusion matrix')\n",
    "plt.show()"
   ]
  },
  {
   "cell_type": "markdown",
   "id": "9f78dda4",
   "metadata": {},
   "source": [
    "## Decision Tree"
   ]
  },
  {
   "cell_type": "code",
   "execution_count": 23,
   "id": "371f3bcf",
   "metadata": {},
   "outputs": [
    {
     "name": "stdout",
     "output_type": "stream",
     "text": [
      "Elapsed time: 0:00:00.030305\n",
      "DecisionTreeClassifier has a training score of 91.0 % accuracy score\n",
      "Recall metric in the testing dataset:  0.9194630872483222\n"
     ]
    },
    {
     "data": {
      "image/png": "[encoded data removed]",
      "text/plain": [
       "<Figure size 432x288 with 2 Axes>"
      ]
     },
     "metadata": {
      "needs_background": "light"
     },
     "output_type": "display_data"
    }
   ],
   "source": [
    "classifier = DecisionTreeClassifier()\n",
    "\n",
    "start_time = timer()\n",
    "classifier.fit(X_train_undersampled, y_train_undersampled)\n",
    "y_pred_undersample = classifier.predict(X_test)\n",
    "elapsed_time = timer() - start_time\n",
    "print(\"Elapsed time:\", timedelta(seconds=elapsed_time))\n",
    "\n",
    "training_score = cross_val_score(classifier,X_train_undersampled, y_train_undersampled, cv=5)\n",
    "\n",
    "print(classifier.__class__.__name__,\"has a training score of\", round(training_score.mean(), 2) * 100, \"% accuracy score\")\n",
    "\n",
    "conf_matrix = confusion_matrix(y_test,y_pred_undersample)\n",
    "np.set_printoptions(precision=2)\n",
    "\n",
    "print(\"Recall metric in the testing dataset: \", conf_matrix[1,1]/(conf_matrix[1,0]+conf_matrix[1,1]))\n",
    "\n",
    "# Plot confusion matrix\n",
    "class_names = [0,1]\n",
    "plt.figure()\n",
    "plot_confusion_matrix(conf_matrix\n",
    "                      , classes=class_names\n",
    "                      , title='Confusion matrix')\n",
    "plt.show()"
   ]
  },
  {
   "cell_type": "markdown",
   "id": "2148969e",
   "metadata": {},
   "source": [
    "## Tratando de predecir sin hacer resampling"
   ]
  },
  {
   "cell_type": "code",
   "execution_count": 24,
   "id": "555dc7a1",
   "metadata": {},
   "outputs": [
    {
     "name": "stderr",
     "output_type": "stream",
     "text": [
      "/home/kevin/.local/lib/python3.9/site-packages/sklearn/linear_model/_logistic.py:763: ConvergenceWarning: lbfgs failed to converge (status=1):\n",
      "STOP: TOTAL NO. of ITERATIONS REACHED LIMIT.\n",
      "\n",
      "Increase the number of iterations (max_iter) or scale the data as shown in:\n",
      "    https://scikit-learn.org/stable/modules/preprocessing.html\n",
      "Please also refer to the documentation for alternative solver options:\n",
      "    https://scikit-learn.org/stable/modules/linear_model.html#logistic-regression\n",
      "  n_iter_i = _check_optimize_result(\n"
     ]
    },
    {
     "name": "stdout",
     "output_type": "stream",
     "text": [
      "Elapsed time: 0:00:02.641347\n",
      "LogisticRegression has a training score of 94.0 % accuracy score\n",
      "Recall:  0.6375838926174496\n"
     ]
    },
    {
     "data": {
      "image/png": "[encoded data removed]",
      "text/plain": [
       "<Figure size 432x288 with 2 Axes>"
      ]
     },
     "metadata": {
      "needs_background": "light"
     },
     "output_type": "display_data"
    }
   ],
   "source": [
    "X_train_original = train_data.drop('Class', axis=1)\n",
    "y_train_original = train_data['Class']\n",
    "\n",
    "classifier = LogisticRegression()\n",
    "\n",
    "start_time = timer()\n",
    "classifier.fit(X_train_original, y_train_original)\n",
    "y_pred_undersample = classifier.predict(X_test)\n",
    "elapsed_time = timer() - start_time\n",
    "print(\"Elapsed time:\", timedelta(seconds=elapsed_time))\n",
    "\n",
    "training_score = cross_val_score(classifier,X_train_undersampled, y_train_undersampled, cv=5)\n",
    "\n",
    "print(classifier.__class__.__name__,\"has a training score of\", round(training_score.mean(), 2) * 100, \"% accuracy score\")\n",
    "\n",
    "conf_matrix = confusion_matrix(y_test,y_pred_undersample)\n",
    "np.set_printoptions(precision=2)\n",
    "\n",
    "print(\"Recall: \", conf_matrix[1,1]/(conf_matrix[1,0]+conf_matrix[1,1]))\n",
    "\n",
    "# Plot confusion matrix\n",
    "class_names = [0,1]\n",
    "plt.figure()\n",
    "plot_confusion_matrix(conf_matrix\n",
    "                      , classes=class_names\n",
    "                      , title='Confusion matrix')\n",
    "plt.show()"
   ]
  }
 ],
 "metadata": {
  "kernelspec": {
   "display_name": "Python 3",
   "language": "python",
   "name": "python3"
  },
  "language_info": {
   "codemirror_mode": {
    "name": "ipython",
    "version": 3
   },
   "file_extension": ".py",
   "mimetype": "text/x-python",
   "name": "python",
   "nbconvert_exporter": "python",
   "pygments_lexer": "ipython3",
   "version": "3.9.5"
  }
 },
 "nbformat": 4,
 "nbformat_minor": 5
}
