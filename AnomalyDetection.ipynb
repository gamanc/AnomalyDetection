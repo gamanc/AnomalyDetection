{
 "cells": [
  {
   "cell_type": "markdown",
   "id": "2a5a858d",
   "metadata": {},
   "source": [
    "<h1 align='center'>Deteccion de anomalías en grandes volúmenes de datos</h1>\n"
   ]
  },
  {
   "cell_type": "code",
   "execution_count": null,
   "id": "ccd66c1c",
   "metadata": {},
   "outputs": [],
   "source": []
  }
 ],
 "metadata": {
  "kernelspec": {
   "display_name": "Python 3",
   "language": "python",
   "name": "python3"
  },
  "language_info": {
   "codemirror_mode": {
    "name": "ipython",
    "version": 3
   },
   "file_extension": ".py",
   "mimetype": "text/x-python",
   "name": "python",
   "nbconvert_exporter": "python",
   "pygments_lexer": "ipython3",
   "version": "3.6.9"
  }
 },
 "nbformat": 4,
 "nbformat_minor": 5
}
